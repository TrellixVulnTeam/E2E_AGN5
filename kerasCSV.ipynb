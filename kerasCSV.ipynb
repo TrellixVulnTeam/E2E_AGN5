{
 "metadata": {
  "language_info": {
   "codemirror_mode": {
    "name": "ipython",
    "version": 3
   },
   "file_extension": ".py",
   "mimetype": "text/x-python",
   "name": "python",
   "nbconvert_exporter": "python",
   "pygments_lexer": "ipython3",
   "version": "3.6.9-final"
  },
  "orig_nbformat": 2,
  "kernelspec": {
   "name": "Python 3.6.9 64-bit ('venv': virtualenv)",
   "display_name": "Python 3.6.9 64-bit ('venv': virtualenv)",
   "metadata": {
    "interpreter": {
     "hash": "0d238e00ef7e4875340fea2509793681dc24ced808874c5cf679a0e4c8ca5181"
    }
   }
  }
 },
 "nbformat": 4,
 "nbformat_minor": 2,
 "cells": [
  {
   "cell_type": "code",
   "execution_count": 41,
   "metadata": {},
   "outputs": [],
   "source": [
    "import json\n",
    "import csv\n",
    "import os"
   ]
  },
  {
   "cell_type": "code",
   "execution_count": 42,
   "metadata": {},
   "outputs": [],
   "source": [
    "DATASET_DIR = 'dataset'\n",
    "MARKS_PATH = 'preprocessing/marks.json'\n",
    "\n",
    "E2E_RESULT_PATH = 'E2E_Dataset.json'\n",
    "EXAMPLE_RESULT_PATH = 'example_dataset.json'\n",
    "\n",
    "TRAIN_CSV_PATH = 'train_keras.csv'\n",
    "EVAL_CSV_PATH = 'eval_keras.csv'"
   ]
  },
  {
   "cell_type": "code",
   "execution_count": 43,
   "metadata": {},
   "outputs": [
    {
     "output_type": "execute_result",
     "data": {
      "text/plain": [
       "38"
      ]
     },
     "metadata": {},
     "execution_count": 43
    }
   ],
   "source": [
    "e2e_result = json.load(open(E2E_RESULT_PATH))\n",
    "\n",
    "train_writter = csv.writer(open(TRAIN_CSV_PATH, 'w'))\n",
    "eval_writter = csv.writer(open(EVAL_CSV_PATH, 'w'))\n",
    "\n",
    "train_writter.writerow([\"wav_filename\", \"wav_filesize\", \"transcript\"])\n",
    "eval_writter.writerow([\"wav_filename\", \"wav_filesize\", \"transcript\"])"
   ]
  },
  {
   "cell_type": "code",
   "execution_count": 44,
   "metadata": {
    "tags": []
   },
   "outputs": [
    {
     "output_type": "stream",
     "name": "stdout",
     "text": [
      "Starting to Build Training Set at count: 1704\nDone\n"
     ]
    }
   ],
   "source": [
    "count = 0\n",
    "threshold = len(e2e_result) * 0.1\n",
    "writer = eval_writter\n",
    "\n",
    "for file_name in e2e_result:\n",
    "    file_path = os.path.join(DATASET_DIR, file_name)\n",
    "    file_size = os.path.getsize(file_path)\n",
    "    transcript = e2e_result[file_name]\n",
    "\n",
    "    if(count > threshold and writer != train_writter):\n",
    "        print(\"Starting to Build Training Set at count:\", count)\n",
    "        writer = train_writter\n",
    "\n",
    "    writer.writerow([os.path.abspath(file_path), file_size, transcript.lower().strip()])\n",
    "    count += 1\n",
    "    # print([os.path.abspath(file_path), file_size, transcript])\n",
    "\n",
    "print('Done')"
   ]
  },
  {
   "cell_type": "code",
   "execution_count": null,
   "metadata": {},
   "outputs": [],
   "source": []
  }
 ]
}